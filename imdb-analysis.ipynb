{
 "cells": [
  {
   "cell_type": "markdown",
   "id": "e05caa00",
   "metadata": {},
   "source": [
    "# 🎬 IMDB Top 250 Movies Analysis"
   ]
  },
  {
   "cell_type": "markdown",
   "id": "f2d19cc8",
   "metadata": {},
   "source": [
    "In this project, I will analyze the IMDB Top 250 Movies dataset.  \n",
    "The main goals are to practice **Pandas** and **Matplotlib** by exploring:\n",
    "\n",
    "- The top-rated movies\n",
    "- Movies distribution by decades\n",
    "- Average, longest, and shortest runtimes\n",
    "- Distribution of movies by rating categories"
   ]
  },
  {
   "cell_type": "markdown",
   "id": "c17a87a2",
   "metadata": {},
   "source": [
    "## Step 0: Setup\n",
    "\n",
    "First, we will import the required Python libraries and load the dataset.\n",
    "We will also take an initial look at the data to understand its structure.\n"
   ]
  },
  {
   "cell_type": "code",
   "execution_count": 116,
   "id": "67dacd95",
   "metadata": {},
   "outputs": [
    {
     "data": {
      "text/html": [
       "<div>\n",
       "<style scoped>\n",
       "    .dataframe tbody tr th:only-of-type {\n",
       "        vertical-align: middle;\n",
       "    }\n",
       "\n",
       "    .dataframe tbody tr th {\n",
       "        vertical-align: top;\n",
       "    }\n",
       "\n",
       "    .dataframe thead th {\n",
       "        text-align: right;\n",
       "    }\n",
       "</style>\n",
       "<table border=\"1\" class=\"dataframe\">\n",
       "  <thead>\n",
       "    <tr style=\"text-align: right;\">\n",
       "      <th></th>\n",
       "      <th>Rank</th>\n",
       "      <th>Title</th>\n",
       "      <th>Release</th>\n",
       "      <th>Runtime</th>\n",
       "      <th>Rated</th>\n",
       "      <th>Ratings</th>\n",
       "    </tr>\n",
       "  </thead>\n",
       "  <tbody>\n",
       "    <tr>\n",
       "      <th>0</th>\n",
       "      <td>1</td>\n",
       "      <td>The Shawshank Redemption</td>\n",
       "      <td>1994</td>\n",
       "      <td>2h 22m</td>\n",
       "      <td>R</td>\n",
       "      <td>9.3</td>\n",
       "    </tr>\n",
       "    <tr>\n",
       "      <th>1</th>\n",
       "      <td>2</td>\n",
       "      <td>The Godfather</td>\n",
       "      <td>1972</td>\n",
       "      <td>2h 55m</td>\n",
       "      <td>R</td>\n",
       "      <td>9.2</td>\n",
       "    </tr>\n",
       "    <tr>\n",
       "      <th>2</th>\n",
       "      <td>3</td>\n",
       "      <td>The Dark Knight</td>\n",
       "      <td>2008</td>\n",
       "      <td>2h 32m</td>\n",
       "      <td>PG-13</td>\n",
       "      <td>9.0</td>\n",
       "    </tr>\n",
       "    <tr>\n",
       "      <th>3</th>\n",
       "      <td>4</td>\n",
       "      <td>The Godfather Part II</td>\n",
       "      <td>1974</td>\n",
       "      <td>3h 22m</td>\n",
       "      <td>R</td>\n",
       "      <td>9.0</td>\n",
       "    </tr>\n",
       "    <tr>\n",
       "      <th>4</th>\n",
       "      <td>5</td>\n",
       "      <td>12 Angry Men</td>\n",
       "      <td>1957</td>\n",
       "      <td>1h 36m</td>\n",
       "      <td>Approved</td>\n",
       "      <td>9.0</td>\n",
       "    </tr>\n",
       "  </tbody>\n",
       "</table>\n",
       "</div>"
      ],
      "text/plain": [
       "   Rank                     Title  Release Runtime     Rated  Ratings\n",
       "0     1  The Shawshank Redemption     1994  2h 22m         R      9.3\n",
       "1     2             The Godfather     1972  2h 55m         R      9.2\n",
       "2     3           The Dark Knight     2008  2h 32m     PG-13      9.0\n",
       "3     4     The Godfather Part II     1974  3h 22m         R      9.0\n",
       "4     5              12 Angry Men     1957  1h 36m  Approved      9.0"
      ]
     },
     "execution_count": 116,
     "metadata": {},
     "output_type": "execute_result"
    }
   ],
   "source": [
    "import pandas as pd\n",
    "import matplotlib.pyplot as plt\n",
    "\n",
    "\n",
    "#load the dataset\n",
    "imdb = pd.read_csv('IMDB_processed_data.csv')\n",
    "\n",
    "\n",
    "\n",
    "#preview\n",
    "imdb.head()\n",
    "\n"
   ]
  },
  {
   "cell_type": "markdown",
   "id": "ef699ec9",
   "metadata": {},
   "source": [
    "## Step 1: Data Preparation\n",
    "\n",
    "The \"Runtime\" column is currently in text format (\"2h 22m\").  \n",
    "We will convert it into minutes for easier analysis.  \n",
    "We will also create a new \"Decade\" column to group movies by release decade."
   ]
  },
  {
   "cell_type": "code",
   "execution_count": 117,
   "id": "fae437a1",
   "metadata": {},
   "outputs": [
    {
     "data": {
      "text/html": [
       "<div>\n",
       "<style scoped>\n",
       "    .dataframe tbody tr th:only-of-type {\n",
       "        vertical-align: middle;\n",
       "    }\n",
       "\n",
       "    .dataframe tbody tr th {\n",
       "        vertical-align: top;\n",
       "    }\n",
       "\n",
       "    .dataframe thead th {\n",
       "        text-align: right;\n",
       "    }\n",
       "</style>\n",
       "<table border=\"1\" class=\"dataframe\">\n",
       "  <thead>\n",
       "    <tr style=\"text-align: right;\">\n",
       "      <th></th>\n",
       "      <th>Rank</th>\n",
       "      <th>Title</th>\n",
       "      <th>Release</th>\n",
       "      <th>Runtime</th>\n",
       "      <th>Rated</th>\n",
       "      <th>Ratings</th>\n",
       "      <th>RuntimeMinutes</th>\n",
       "      <th>Decade</th>\n",
       "    </tr>\n",
       "  </thead>\n",
       "  <tbody>\n",
       "    <tr>\n",
       "      <th>0</th>\n",
       "      <td>1</td>\n",
       "      <td>The Shawshank Redemption</td>\n",
       "      <td>1994</td>\n",
       "      <td>2h 22m</td>\n",
       "      <td>R</td>\n",
       "      <td>9.3</td>\n",
       "      <td>142</td>\n",
       "      <td>1990</td>\n",
       "    </tr>\n",
       "    <tr>\n",
       "      <th>1</th>\n",
       "      <td>2</td>\n",
       "      <td>The Godfather</td>\n",
       "      <td>1972</td>\n",
       "      <td>2h 55m</td>\n",
       "      <td>R</td>\n",
       "      <td>9.2</td>\n",
       "      <td>175</td>\n",
       "      <td>1970</td>\n",
       "    </tr>\n",
       "    <tr>\n",
       "      <th>2</th>\n",
       "      <td>3</td>\n",
       "      <td>The Dark Knight</td>\n",
       "      <td>2008</td>\n",
       "      <td>2h 32m</td>\n",
       "      <td>PG-13</td>\n",
       "      <td>9.0</td>\n",
       "      <td>152</td>\n",
       "      <td>2000</td>\n",
       "    </tr>\n",
       "    <tr>\n",
       "      <th>3</th>\n",
       "      <td>4</td>\n",
       "      <td>The Godfather Part II</td>\n",
       "      <td>1974</td>\n",
       "      <td>3h 22m</td>\n",
       "      <td>R</td>\n",
       "      <td>9.0</td>\n",
       "      <td>202</td>\n",
       "      <td>1970</td>\n",
       "    </tr>\n",
       "    <tr>\n",
       "      <th>4</th>\n",
       "      <td>5</td>\n",
       "      <td>12 Angry Men</td>\n",
       "      <td>1957</td>\n",
       "      <td>1h 36m</td>\n",
       "      <td>Approved</td>\n",
       "      <td>9.0</td>\n",
       "      <td>96</td>\n",
       "      <td>1950</td>\n",
       "    </tr>\n",
       "  </tbody>\n",
       "</table>\n",
       "</div>"
      ],
      "text/plain": [
       "   Rank                     Title  Release Runtime     Rated  Ratings  \\\n",
       "0     1  The Shawshank Redemption     1994  2h 22m         R      9.3   \n",
       "1     2             The Godfather     1972  2h 55m         R      9.2   \n",
       "2     3           The Dark Knight     2008  2h 32m     PG-13      9.0   \n",
       "3     4     The Godfather Part II     1974  3h 22m         R      9.0   \n",
       "4     5              12 Angry Men     1957  1h 36m  Approved      9.0   \n",
       "\n",
       "   RuntimeMinutes  Decade  \n",
       "0             142    1990  \n",
       "1             175    1970  \n",
       "2             152    2000  \n",
       "3             202    1970  \n",
       "4              96    1950  "
      ]
     },
     "execution_count": 117,
     "metadata": {},
     "output_type": "execute_result"
    }
   ],
   "source": [
    "#convert runtime string into minutes\n",
    "def run_time(s):\n",
    "    s = str(s).strip()\n",
    "    hours = 0\n",
    "    minutes = 0\n",
    "    for part in s.split():\n",
    "        if part.endswith('h'):\n",
    "            hours = int(part[:-1])\n",
    "        elif part.endswith('m'):\n",
    "            minutes = int(part[:-1])\n",
    "\n",
    "    return  hours * 60 + minutes\n",
    "\n",
    "\n",
    "imdb['RuntimeMinutes'] = imdb['Runtime'].apply(run_time)\n",
    "\n",
    "#Create Decade column\n",
    "imdb['Decade'] = (imdb['Release'] // 10)*10\n",
    "\n",
    "imdb.head()"
   ]
  },
  {
   "cell_type": "markdown",
   "id": "5db64678",
   "metadata": {},
   "source": [
    "## Step 2: Top 10 Movies by Rating\n",
    "\n",
    "We will find the 10 highest-rated movies in the dataset.  \n",
    "\n"
   ]
  },
  {
   "cell_type": "code",
   "execution_count": 118,
   "id": "004667e1",
   "metadata": {},
   "outputs": [
    {
     "data": {
      "text/html": [
       "<div>\n",
       "<style scoped>\n",
       "    .dataframe tbody tr th:only-of-type {\n",
       "        vertical-align: middle;\n",
       "    }\n",
       "\n",
       "    .dataframe tbody tr th {\n",
       "        vertical-align: top;\n",
       "    }\n",
       "\n",
       "    .dataframe thead th {\n",
       "        text-align: right;\n",
       "    }\n",
       "</style>\n",
       "<table border=\"1\" class=\"dataframe\">\n",
       "  <thead>\n",
       "    <tr style=\"text-align: right;\">\n",
       "      <th></th>\n",
       "      <th>Rank</th>\n",
       "      <th>Title</th>\n",
       "      <th>Ratings</th>\n",
       "    </tr>\n",
       "  </thead>\n",
       "  <tbody>\n",
       "    <tr>\n",
       "      <th>0</th>\n",
       "      <td>1</td>\n",
       "      <td>The Shawshank Redemption</td>\n",
       "      <td>9.3</td>\n",
       "    </tr>\n",
       "    <tr>\n",
       "      <th>1</th>\n",
       "      <td>2</td>\n",
       "      <td>The Godfather</td>\n",
       "      <td>9.2</td>\n",
       "    </tr>\n",
       "    <tr>\n",
       "      <th>2</th>\n",
       "      <td>3</td>\n",
       "      <td>The Dark Knight</td>\n",
       "      <td>9.0</td>\n",
       "    </tr>\n",
       "    <tr>\n",
       "      <th>3</th>\n",
       "      <td>4</td>\n",
       "      <td>The Godfather Part II</td>\n",
       "      <td>9.0</td>\n",
       "    </tr>\n",
       "    <tr>\n",
       "      <th>4</th>\n",
       "      <td>5</td>\n",
       "      <td>12 Angry Men</td>\n",
       "      <td>9.0</td>\n",
       "    </tr>\n",
       "    <tr>\n",
       "      <th>5</th>\n",
       "      <td>6</td>\n",
       "      <td>The Lord of the Rings: The Return of the King</td>\n",
       "      <td>9.0</td>\n",
       "    </tr>\n",
       "    <tr>\n",
       "      <th>6</th>\n",
       "      <td>7</td>\n",
       "      <td>Schindler's List</td>\n",
       "      <td>9.0</td>\n",
       "    </tr>\n",
       "    <tr>\n",
       "      <th>7</th>\n",
       "      <td>8</td>\n",
       "      <td>Pulp Fiction</td>\n",
       "      <td>8.9</td>\n",
       "    </tr>\n",
       "    <tr>\n",
       "      <th>8</th>\n",
       "      <td>9</td>\n",
       "      <td>The Lord of the Rings: The Fellowship of the Ring</td>\n",
       "      <td>8.9</td>\n",
       "    </tr>\n",
       "    <tr>\n",
       "      <th>9</th>\n",
       "      <td>10</td>\n",
       "      <td>The Good, the Bad and the Ugly</td>\n",
       "      <td>8.8</td>\n",
       "    </tr>\n",
       "  </tbody>\n",
       "</table>\n",
       "</div>"
      ],
      "text/plain": [
       "   Rank                                              Title  Ratings\n",
       "0     1                           The Shawshank Redemption      9.3\n",
       "1     2                                      The Godfather      9.2\n",
       "2     3                                    The Dark Knight      9.0\n",
       "3     4                              The Godfather Part II      9.0\n",
       "4     5                                       12 Angry Men      9.0\n",
       "5     6      The Lord of the Rings: The Return of the King      9.0\n",
       "6     7                                   Schindler's List      9.0\n",
       "7     8                                       Pulp Fiction      8.9\n",
       "8     9  The Lord of the Rings: The Fellowship of the Ring      8.9\n",
       "9    10                     The Good, the Bad and the Ugly      8.8"
      ]
     },
     "execution_count": 118,
     "metadata": {},
     "output_type": "execute_result"
    }
   ],
   "source": [
    "#10 highest-rated movies\n",
    "top10= imdb.sort_values('Ratings' , ascending=False).head(10)\n",
    "\n",
    "top10[['Rank','Title' , 'Ratings']]"
   ]
  },
  {
   "cell_type": "markdown",
   "id": "653a9cf6",
   "metadata": {},
   "source": [
    "## Step 3: Movies by Decade\n",
    "\n",
    "We will count how many movies appear in the Top 250 for each decade  \n",
    "and visualize the results with a bar plot."
   ]
  },
  {
   "cell_type": "code",
   "execution_count": null,
   "id": "dcf55dd0",
   "metadata": {},
   "outputs": [
    {
     "data": {
      "image/png": "[encoded data removed]",
      "text/plain": [
       "<Figure size 640x480 with 1 Axes>"
      ]
     },
     "metadata": {},
     "output_type": "display_data"
    }
   ],
   "source": [
    "# Calculate the number of movies per decade\n",
    "decade_counts = imdb['Decade'].value_counts().sort_index()\n",
    "\n",
    "# Plot the number of movies\n",
    "decade_counts.plot(kind='bar' , rot=45)\n",
    "plt.title('Number of IMDB Top 250 Movies per Decade')\n",
    "plt.xlabel('Decade')\n",
    "plt.ylabel('Number of Movies')\n",
    "plt.show()\n",
    "\n"
   ]
  },
  {
   "cell_type": "markdown",
   "id": "ac7fad23",
   "metadata": {},
   "source": [
    "## Step 4: Runtime & Rating Categories\n",
    "\n",
    "In this step, we will analyze movie runtimes and ratings by:\n",
    "\n",
    "- Distribution of runtimes (histogram)\n",
    "- Average runtime of movies\n",
    "- Longest and shortest movies\n",
    "- Distribution of movies by rating categories (bar plot)\n",
    "- Average rating of movies by decade\n"
   ]
  },
  {
   "cell_type": "code",
   "execution_count": null,
   "id": "0db1fc9d",
   "metadata": {},
   "outputs": [
    {
     "data": {
      "image/png": "[encoded data removed]",
      "text/plain": [
       "<Figure size 640x480 with 1 Axes>"
      ]
     },
     "metadata": {},
     "output_type": "display_data"
    }
   ],
   "source": [
    "\n",
    "# Plot the distribution of movie runtimes (histogram)\n",
    "imdb['RuntimeMinutes'].hist(bins=20)\n",
    "\n",
    "plt.title(\"Distribution of Movie Runtimes\")\n",
    "plt.xlabel(\"Runtime (minutes)\")\n",
    "plt.ylabel(\"Frequency\")\n",
    "plt.show()\n"
   ]
  },
  {
   "cell_type": "code",
   "execution_count": null,
   "id": "7d42cf78",
   "metadata": {},
   "outputs": [
    {
     "name": "stdout",
     "output_type": "stream",
     "text": [
      "Average runtime: 129.8 minutes\n",
      "\n",
      "Longest movie: {'Title': 'Gone with the Wind', 'Runtime': '3h 58m', 'Release': 1939, 'Ratings': 8.2} \n",
      "\n",
      "Shortest movie: {'Title': 'Sherlock Jr.', 'Runtime': '45m', 'Release': 1924, 'Ratings': 8.2} \n",
      "\n"
     ]
    }
   ],
   "source": [
    "# Calculate the average runtime\n",
    "print(\"Average runtime:\", imdb['RuntimeMinutes'].mean().round(2) , \"minutes\\n\")\n",
    "\n",
    "# Get the longest movie (maximum runtime)\n",
    "print(\"Longest movie:\", imdb.loc[imdb[\"RuntimeMinutes\"].idxmax(), [\"Title\",\"Runtime\" ,'Release','Ratings']].to_dict() ,'\\n')\n",
    "\n",
    "# Get the shortest movie (minimum runtime)\n",
    "print(\"Shortest movie:\", imdb.loc[imdb[\"RuntimeMinutes\"].idxmin(), [\"Title\",\"Runtime\" ,'Release','Ratings']].to_dict(),'\\n')\n",
    "\n",
    "\n"
   ]
  },
  {
   "cell_type": "markdown",
   "id": "1821d699",
   "metadata": {},
   "source": [
    "### Average Rating by Decade\n",
    "This table shows the **average IMDB rating** of the Top 250 movies by decade,  \n",
    "highlighting which eras had the highest-rated films.\n"
   ]
  },
  {
   "cell_type": "code",
   "execution_count": null,
   "id": "919ca3f6",
   "metadata": {},
   "outputs": [
    {
     "name": "stdout",
     "output_type": "stream",
     "text": [
      "    Decade  Average Rating\n",
      "0     1920            8.17\n",
      "1     1930            8.28\n",
      "2     1940            8.26\n",
      "3     1950            8.28\n",
      "4     1960            8.34\n",
      "5     1970            8.35\n",
      "6     1980            8.28\n",
      "7     1990            8.40\n",
      "8     2000            8.30\n",
      "9     2010            8.25\n",
      "10    2020            8.41\n"
     ]
    }
   ],
   "source": [
    "# Calculate the average rating per decade\n",
    "\n",
    "decade_avg = imdb.groupby(\"Decade\")[\"Ratings\"].mean().round(2).reset_index()\n",
    "decade_avg.columns = [\"Decade\", \"Average Rating\"]\n",
    "print(decade_avg)"
   ]
  },
  {
   "cell_type": "markdown",
   "id": "e0c2ac9c",
   "metadata": {},
   "source": [
    "### About Rating Categories\n",
    "\n",
    "- **G**: General audiences (suitable for all ages)  \n",
    "- **PG**: Parental guidance suggested  \n",
    "- **PG-13**: Parents strongly cautioned (not suitable for children under 13)  \n",
    "- **R**: Restricted (under 17 requires accompanying parent or adult guardian)  \n",
    "- **NC-17**: No one 17 and under admitted  \n",
    "- **Approved**: Old classification used before MPAA modern system  \n",
    "- **Passed**: Very old classification used before ratings system  \n",
    "- **Not Rated / Unrated**: Movies without an official rating\n"
   ]
  },
  {
   "cell_type": "code",
   "execution_count": null,
   "id": "bfad09af",
   "metadata": {},
   "outputs": [
    {
     "data": {
      "image/png": "[encoded data removed]",
      "text/plain": [
       "<Figure size 640x480 with 1 Axes>"
      ]
     },
     "metadata": {},
     "output_type": "display_data"
    }
   ],
   "source": [
    "# Plot the distribution of rating categories\n",
    "\n",
    "imdb[\"Rated\"].value_counts().plot(kind=\"bar\", rot=45)\n",
    "plt.title(\"Distribution of Movies by Rating Category\")\n",
    "plt.xlabel(\"Rating Category\")\n",
    "plt.ylabel(\"Number of Movies\")\n",
    "plt.show()"
   ]
  },
  {
   "cell_type": "markdown",
   "id": "2cd93d5e",
   "metadata": {},
   "source": [
    "## Step 5: Conclusion\n",
    "\n",
    "From this analysis, we can conclude:\n",
    "\n",
    "- The highest-rated movie is **The Shawshank Redemption**\n",
    "- The decade with the most top movies is **2000s** with 48 movies\n",
    "- The decade with the highest average rating is **2020s** (8.41),  \n",
    "  but since this decade has relatively few movies in the Top 250,  \n",
    "  the **1990s** (8.40) can be considered the strongest decade overall in terms of quality\n",
    "- The average runtime is around **129.8 minutes**\n",
    "- Most of the movies are rated as **R**\n",
    "\n",
    "This project was a great opportunity to practice **Pandas** and **Matplotlib**  \n",
    "using only `.plot()` and `.hist()` .\n",
    "\n"
   ]
  }
 ],
 "metadata": {
  "kernelspec": {
   "display_name": "Python 3",
   "language": "python",
   "name": "python3"
  },
  "language_info": {
   "codemirror_mode": {
    "name": "ipython",
    "version": 3
   },
   "file_extension": ".py",
   "mimetype": "text/x-python",
   "name": "python",
   "nbconvert_exporter": "python",
   "pygments_lexer": "ipython3",
   "version": "3.13.5"
  }
 },
 "nbformat": 4,
 "nbformat_minor": 5
}
